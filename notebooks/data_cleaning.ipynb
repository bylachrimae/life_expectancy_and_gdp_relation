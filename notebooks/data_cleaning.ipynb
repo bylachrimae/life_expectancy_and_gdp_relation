{
 "cells": [
  {
   "cell_type": "markdown",
   "metadata": {},
   "source": [
    "DATA CLEANING"
   ]
  },
  {
   "cell_type": "code",
   "execution_count": 2,
   "metadata": {},
   "outputs": [
    {
     "name": "stdout",
     "output_type": "stream",
     "text": [
      "  Country  Year  Life expectancy at birth (years)           GDP\n",
      "0   Chile  2000                              77.3  7.786093e+10\n",
      "1   Chile  2001                              77.3  7.097992e+10\n",
      "2   Chile  2002                              77.8  6.973681e+10\n",
      "3   Chile  2003                              77.9  7.564346e+10\n",
      "4   Chile  2004                              78.0  9.921039e+10\n",
      "<class 'pandas.core.frame.DataFrame'>\n",
      "RangeIndex: 96 entries, 0 to 95\n",
      "Data columns (total 4 columns):\n",
      " #   Column                            Non-Null Count  Dtype  \n",
      "---  ------                            --------------  -----  \n",
      " 0   Country                           96 non-null     object \n",
      " 1   Year                              96 non-null     int64  \n",
      " 2   Life expectancy at birth (years)  96 non-null     float64\n",
      " 3   GDP                               96 non-null     float64\n",
      "dtypes: float64(2), int64(1), object(1)\n",
      "memory usage: 3.1+ KB\n",
      "None\n",
      "       Country         Year  Life expectancy at birth (years)           GDP\n",
      "count       96    96.000000                         96.000000  9.600000e+01\n",
      "unique       6          NaN                               NaN           NaN\n",
      "top      Chile          NaN                               NaN           NaN\n",
      "freq        16          NaN                               NaN           NaN\n",
      "mean       NaN  2007.500000                         72.789583  3.880499e+12\n",
      "std        NaN     4.633971                         10.672882  5.197561e+12\n",
      "min        NaN  2000.000000                         44.300000  4.415703e+09\n",
      "25%        NaN  2003.750000                         74.475000  1.733018e+11\n",
      "50%        NaN  2007.500000                         76.750000  1.280220e+12\n",
      "75%        NaN  2011.250000                         78.900000  4.067510e+12\n",
      "max        NaN  2015.000000                         81.000000  1.810000e+13\n"
     ]
    }
   ],
   "source": [
    "import pandas as pd\n",
    "\n",
    "data = pd.read_csv(\"../data/all_data.csv\")\n",
    "print(data.head())\n",
    "print(data.info())\n",
    "print(data.describe(include=\"all\"))"
   ]
  },
  {
   "cell_type": "markdown",
   "metadata": {},
   "source": [
    "Sorting data types in dataset"
   ]
  },
  {
   "cell_type": "code",
   "execution_count": 3,
   "metadata": {},
   "outputs": [
    {
     "name": "stdout",
     "output_type": "stream",
     "text": [
      "<class 'pandas.core.frame.DataFrame'>\n",
      "RangeIndex: 96 entries, 0 to 95\n",
      "Data columns (total 4 columns):\n",
      " #   Column                            Non-Null Count  Dtype  \n",
      "---  ------                            --------------  -----  \n",
      " 0   Country                           96 non-null     string \n",
      " 1   Year                              96 non-null     int64  \n",
      " 2   Life expectancy at birth (years)  96 non-null     float64\n",
      " 3   GDP                               96 non-null     float64\n",
      "dtypes: float64(2), int64(1), string(1)\n",
      "memory usage: 3.1 KB\n",
      "None\n"
     ]
    }
   ],
   "source": [
    "data['Country'] = data['Country'].astype('string')\n",
    "print(data.info())"
   ]
  },
  {
   "cell_type": "markdown",
   "metadata": {},
   "source": [
    "Checking for null and atypical values "
   ]
  },
  {
   "cell_type": "code",
   "execution_count": 4,
   "metadata": {},
   "outputs": [
    {
     "name": "stdout",
     "output_type": "stream",
     "text": [
      "Index(['Country', 'Year', 'Life expectancy at birth (years)', 'GDP'], dtype='object')\n",
      "<bound method Series.unique of Country\n",
      "Chile                       16\n",
      "China                       16\n",
      "Germany                     16\n",
      "Mexico                      16\n",
      "United States of America    16\n",
      "Zimbabwe                    16\n",
      "Name: count, dtype: Int64>\n",
      "<bound method Series.unique of Year\n",
      "2000    6\n",
      "2001    6\n",
      "2002    6\n",
      "2003    6\n",
      "2004    6\n",
      "2005    6\n",
      "2006    6\n",
      "2007    6\n",
      "2008    6\n",
      "2009    6\n",
      "2010    6\n",
      "2011    6\n",
      "2012    6\n",
      "2013    6\n",
      "2014    6\n",
      "2015    6\n",
      "Name: count, dtype: int64>\n",
      "<bound method Series.unique of GDP\n",
      "7.786093e+10    1\n",
      "7.097992e+10    1\n",
      "6.973681e+10    1\n",
      "7.564346e+10    1\n",
      "9.921039e+10    1\n",
      "               ..\n",
      "1.209845e+10    1\n",
      "1.424249e+10    1\n",
      "1.545177e+10    1\n",
      "1.589105e+10    1\n",
      "1.630467e+10    1\n",
      "Name: count, Length: 96, dtype: int64>\n"
     ]
    }
   ],
   "source": [
    "print(data.columns)\n",
    "print(data['Country'].value_counts().unique)\n",
    "print(data['Year'].value_counts().unique)\n",
    "print(data['GDP'].value_counts().unique)"
   ]
  },
  {
   "cell_type": "code",
   "execution_count": 5,
   "metadata": {},
   "outputs": [
    {
     "name": "stdout",
     "output_type": "stream",
     "text": [
      "<bound method Series.isnull of 0     77.3\n",
      "1     77.3\n",
      "2     77.8\n",
      "3     77.9\n",
      "4     78.0\n",
      "      ... \n",
      "91    54.9\n",
      "92    56.6\n",
      "93    58.0\n",
      "94    59.2\n",
      "95    60.7\n",
      "Name: Life expectancy at birth (years), Length: 96, dtype: float64>\n"
     ]
    }
   ],
   "source": [
    "print(data['Life expectancy at birth (years)'].isnull)"
   ]
  },
  {
   "cell_type": "markdown",
   "metadata": {},
   "source": [
    "Changing column names for convenience"
   ]
  },
  {
   "cell_type": "code",
   "execution_count": 7,
   "metadata": {},
   "outputs": [
    {
     "name": "stdout",
     "output_type": "stream",
     "text": [
      "Index(['Country', 'Year', 'Expectancy_in_years', 'GDP'], dtype='object')\n"
     ]
    }
   ],
   "source": [
    "data.rename(columns={'Life expectancy at birth (years)':'Expectancy_in_years'},inplace=True)\n",
    "print(data.columns)"
   ]
  },
  {
   "cell_type": "markdown",
   "metadata": {},
   "source": [
    "Saving dataset in csv for further use"
   ]
  },
  {
   "cell_type": "code",
   "execution_count": 8,
   "metadata": {},
   "outputs": [],
   "source": [
    "data.to_csv('../data/clean_data.csv',index=False)"
   ]
  }
 ],
 "metadata": {
  "kernelspec": {
   "display_name": "Python 3",
   "language": "python",
   "name": "python3"
  },
  "language_info": {
   "codemirror_mode": {
    "name": "ipython",
    "version": 3
   },
   "file_extension": ".py",
   "mimetype": "text/x-python",
   "name": "python",
   "nbconvert_exporter": "python",
   "pygments_lexer": "ipython3",
   "version": "3.12.0"
  }
 },
 "nbformat": 4,
 "nbformat_minor": 2
}
